{
 "cells": [
  {
   "cell_type": "code",
   "execution_count": null,
   "id": "0",
   "metadata": {},
   "outputs": [],
   "source": [
    "import json\n",
    "from datetime import datetime, timedelta, timezone\n",
    "import requests\n",
    "import pandas as pd"
   ]
  },
  {
   "cell_type": "markdown",
   "id": "1",
   "metadata": {},
   "source": [
    "# Probabilistic Forecast Handler Class"
   ]
  },
  {
   "cell_type": "code",
   "execution_count": null,
   "id": "2",
   "metadata": {},
   "outputs": [],
   "source": [
    "### Create a handler class\n",
    "class PFXHandler:\n",
    "    pfx_url = \"https://service.solaranywhere.com/api/v2/ProbabilisticForecast\"\n",
    "    def __init__(self, api_key=None):\n",
    "        assert api_key is not None, \"You need to set a SolarAnywhere API key with kwarg: api_key=[api_key]\"\n",
    "        self.api_key = api_key\n",
    "\n",
    "    def create_headers(self):\n",
    "        \"\"\"Create the headers for each request\"\"\"\n",
    "        headers = {\n",
    "            'Accept': 'application/json',\n",
    "            'Accept-Charset': 'utf-8',\n",
    "            'Content-Type': 'application/json',\n",
    "            'X-Api-Key': self.api_key\n",
    "        }\n",
    "        return headers\n",
    "\n",
    "    def post_request(\n",
    "        self,\n",
    "        request_body:dict\n",
    "    ):\n",
    "        \"\"\"Initiates the request for a prob forecast.\n",
    "        Input:\n",
    "            request_body:dict: The specifications for the prob forecast request.\n",
    "                See: https://apidocs.solaranywhere.com/#59e35b6b-91b7-47cc-94a7-fffbbb6f2363\n",
    "        Output:\n",
    "            post_response(request response): The returned POST request response from the SolarAnywhere API.\n",
    "        \"\"\"\n",
    "        headers = self.create_headers()\n",
    "        post_response = requests.request(\"POST\", self.pfx_url, headers=headers, data=json.dumps(request_body))\n",
    "        return post_response\n",
    "\n",
    "    def get_request(\n",
    "        self,\n",
    "        post_request_response\n",
    "    ):\n",
    "        \"\"\"Requests the previously created forecasts.\n",
    "        Input:\n",
    "            post_request_response:request response: The output from a previous POST request that initiated the creation of a prob forecast.\n",
    "        Output:\n",
    "            The response from the API.\n",
    "        \"\"\"\n",
    "        assert post_response.status_code == 200, f\"Post request status code was not 200, status: {post_response.status_code}\"\n",
    "        headers = self.create_headers()\n",
    "        post_json = post_response.json()\n",
    "        request_id = post_json.get('ProbabilisticForecastRequestId', None)\n",
    "        url = f\"{self.pfx_url}Result/{request_id}\"\n",
    "        get_response = requests.request(\"GET\", url, headers=headers, data={})\n",
    "        return get_response\n",
    "\n",
    "    def parse_response(self, res_json):\n",
    "        \"\"\"Parse the response to the request asking for the prob forecasts. Derive the issue_time, lead_time from the response.\n",
    "        Input:\n",
    "            res_json:dict: The payload of the GET request response after it has been converted to a dict by the .json() method.\n",
    "        Output:\n",
    "            The forecasts in a Pandas dataframe with columns:\n",
    "                \"issue_time\": the time from which the forecasts were created.\n",
    "                \"interval_start\": The beginning of the period being forecasted.\n",
    "                \"interval_end\": The end of the period being forecasted.\n",
    "                \"lead_time_hours\": The number of decimal hours of lead time from the issue_time to the interval_start.\n",
    "                \"GHI\": The quantiles of GHI based on the requested \"percentages\" in the POST request to the API.\n",
    "                \"POAI\": The plane-of-array for a single axis tracker or fixed PV system.\n",
    "        \"\"\"\n",
    "        status = res_json.get('Status')\n",
    "        if status == 'Pending':\n",
    "            print(\"The request is still pending\")\n",
    "            return None\n",
    "        first_interval_start = datetime.fromisoformat(res_json.get('StartTime'))\n",
    "        api_call_time = datetime.fromisoformat(res_json.get(\"TimeGenerated\"))\n",
    "        # the time from which the forecast is created is set at at least 4 hours before the start_time.\n",
    "        # Tha actual issue time is the earlier of either 1.) when the API was called, or 2.) 4 hours before the start time.\n",
    "        forecast_issue_time = min(first_interval_start - timedelta(hours=4), api_call_time)\n",
    "        GHI = res_json.get('Results').get('GHI', None)\n",
    "        POAI = res_json.get('Results').get('POAI', None)\n",
    "        num_forecasts = max([len(i) for i in [GHI, POAI] if i is not None])\n",
    "        interval_starts = [first_interval_start + timedelta(minutes=i*60) for i in range(num_forecasts)]\n",
    "        interval_ends = [interval_start + timedelta(minutes=60) for interval_start in interval_starts]\n",
    "        lead_time_hours = [round((int_start - forecast_issue_time).total_seconds()/3600.0, 2) for int_start in interval_starts]\n",
    "        forecast_dict = {\n",
    "            \"issue_time\": forecast_issue_time,\n",
    "            \"interval_start\": interval_starts,\n",
    "            \"interval_end\": interval_ends,\n",
    "            \"lead_time_hours\": lead_time_hours,\n",
    "            \"GHI\": GHI, \n",
    "            \"POAI\": POAI\n",
    "        }\n",
    "        return pd.DataFrame(forecast_dict)"
   ]
  },
  {
   "cell_type": "markdown",
   "id": "3",
   "metadata": {},
   "source": [
    "# Setup"
   ]
  },
  {
   "cell_type": "code",
   "execution_count": null,
   "id": "4",
   "metadata": {},
   "outputs": [],
   "source": [
    "# Create a location\n",
    "lat = 38.93839915580461\n",
    "lon = -77.26458129616941\n",
    "name = \"Wolf Trap\"\n",
    "percentiles = [10,20,30,40,50,60,70,80,90]\n",
    "\n",
    "#get the SolarAnywhere API key\n",
    "solaranywhere_api_key = None"
   ]
  },
  {
   "cell_type": "code",
   "execution_count": null,
   "id": "5",
   "metadata": {},
   "outputs": [],
   "source": [
    "### Create pfx_handler instance\n",
    "pfx_handler = PFXHandler(api_key = solaranywhere_api_key)"
   ]
  },
  {
   "cell_type": "markdown",
   "id": "6",
   "metadata": {},
   "source": [
    "# Forecast Period"
   ]
  },
  {
   "cell_type": "markdown",
   "id": "7",
   "metadata": {},
   "source": [
    "## Current Day-Ahead Forecast"
   ]
  },
  {
   "cell_type": "markdown",
   "id": "8",
   "metadata": {},
   "source": [
    "The \"StartTime\" parameter specifies the beginning of the first forecasted time interval requested. The the forecast \"issue time\" or \"reference time\", i.e. the time from which the forecast is created is internally set to 4 hours before the \"StartTime\". We set a start time 5 hours in the future to ensure we have the most current NWP inputs to the model. (The \"issue_time\" constrains the NWP inputs by only using forecasts that would have existed before that timestamp. Setting an \"issue_time\" in the future ensures the model can use the most recent NWP inputs.) "
   ]
  },
  {
   "cell_type": "code",
   "execution_count": null,
   "id": "9",
   "metadata": {},
   "outputs": [],
   "source": [
    "### specify the StartTime for the forecast such that newest NWP data is used\n",
    "current_time = datetime.now()\n",
    "# advance \"StartTime\" more than 4 hours from the current time.\n",
    "forecast_start_time = current_time + timedelta(hours=5)\n",
    "# reformat \"StartTime\" because API only accepts timestamps truncated to the hour.\n",
    "forecast_start_time = forecast_start_time.replace(minute=0,second=0, microsecond=0, tzinfo=timezone.utc)\n",
    "start_time_str = forecast_start_time.isoformat()\n",
    "print(f\"Beginning of first predicted interval: {start_time_str}\")"
   ]
  },
  {
   "cell_type": "markdown",
   "id": "10",
   "metadata": {},
   "source": [
    "## Past Forecasts (Backtesting)"
   ]
  },
  {
   "cell_type": "markdown",
   "id": "11",
   "metadata": {},
   "source": [
    "For backtesting, set the \"StartTime\" to the beginning of the set of desired forecasted periods, or to four hours after when the forecast would have been issued."
   ]
  },
  {
   "cell_type": "code",
   "execution_count": null,
   "id": "12",
   "metadata": {},
   "outputs": [],
   "source": [
    "# Day-ahead forecast created at 10 AM EST on February 13, 2024 for Februrary 14.\n",
    "EST_offset = -4\n",
    "forecast_issue_time = datetime(\n",
    "    year=2023,\n",
    "    month=2,\n",
    "    day=13,\n",
    "    hour=10+EST_offset,\n",
    "    tzinfo=timezone.utc\n",
    ")\n",
    "forecast_start_time = forecast_issue_time + timedelta(hours=4)\n",
    "start_time_str = forecast_start_time.isoformat()\n",
    "print(f\"Forecast issued at: {forecast_issue_time.isoformat()}, beginning of first predicted interval: {start_time_str}\")"
   ]
  },
  {
   "cell_type": "markdown",
   "id": "13",
   "metadata": {},
   "source": [
    "# Tracking"
   ]
  },
  {
   "cell_type": "markdown",
   "id": "14",
   "metadata": {},
   "source": [
    "## Single Axis Tracking POAI"
   ]
  },
  {
   "cell_type": "markdown",
   "id": "15",
   "metadata": {},
   "source": [
    "We specify the pvlib singleaxistracker parameters axis_azimuth and axis_tilt for modeling the plane-of-array irradiance.\n",
    "(https://pvlib-python.readthedocs.io/en/stable/reference/generated/pvlib.tracking.singleaxis.html)"
   ]
  },
  {
   "cell_type": "code",
   "execution_count": null,
   "id": "16",
   "metadata": {},
   "outputs": [],
   "source": [
    "# specify single axis tracker parameters and interpret them as pfx api inputs.\n",
    "axis_azimuth = 0\n",
    "axis_tilt = 0\n",
    "array_config = {\n",
    "    \"Tracking\": \"SingleAxis\",\n",
    "    \"Tilt_Degrees\": axis_tilt,\n",
    "    \"Azimuth_Degrees\": axis_azimuth\n",
    "}"
   ]
  },
  {
   "cell_type": "markdown",
   "id": "17",
   "metadata": {},
   "source": [
    "## Fixed Mount"
   ]
  },
  {
   "cell_type": "markdown",
   "id": "18",
   "metadata": {},
   "source": [
    "We specify the pvlib FixedMount parameters surface_tilt and surface_azimuth for modeling the plane-of-array irradiance.\n",
    "(https://pvlib-python.readthedocs.io/en/stable/reference/generated/pvlib.pvsystem.FixedMount.html)"
   ]
  },
  {
   "cell_type": "code",
   "execution_count": null,
   "id": "19",
   "metadata": {},
   "outputs": [],
   "source": [
    "# specify fixed mount parameters and interpret them as pfx api inputs.\n",
    "surface_tilt = 35\n",
    "surface_azimuth = 180 #south facing\n",
    "array_config = {\n",
    "    \"Tracking\": \"Fixed\",\n",
    "    \"Tilt_Degrees\": surface_tilt,\n",
    "    \"Azimuth_Degrees\": surface_azimuth\n",
    "}"
   ]
  },
  {
   "cell_type": "markdown",
   "id": "20",
   "metadata": {},
   "source": [
    "## POAI vs GHI"
   ]
  },
  {
   "cell_type": "markdown",
   "id": "21",
   "metadata": {},
   "source": [
    "During the creation of the probabilistic forecast, all three irradiance components are modeled as a joint probability: in that the way DHI, GHI, and DNI vary is not independent.\n",
    "The POAI output of the probabilistic forecast takes this into account, and the GHI output is derived from the marginal distribution of the GHI alone.\n",
    "TLDR: Decomposing the GHI output to create a POAI or power forecast is likel less accurate than using the POAI output. "
   ]
  },
  {
   "cell_type": "markdown",
   "id": "22",
   "metadata": {},
   "source": [
    "# Get Forecasts from the API"
   ]
  },
  {
   "cell_type": "markdown",
   "id": "23",
   "metadata": {},
   "source": [
    "## Assemble Post Request"
   ]
  },
  {
   "cell_type": "code",
   "execution_count": null,
   "id": "24",
   "metadata": {},
   "outputs": [],
   "source": [
    "post_request_body = {\n",
    "    \"Latitude\": lat,\n",
    "    \"Longitude\": lon,\n",
    "    \"Name\": name,\n",
    "    \"StartTime\": start_time_str,\n",
    "    \"ForecastHorizon_Hours\": 35,\n",
    "    \"Percentiles\": percentiles,\n",
    "    \"ArrayConfiguration\": array_config,\n",
    "    \"OutputFields\": [\n",
    "        \"GHI\",\n",
    "        \"POAI\"\n",
    "    ]\n",
    "}\n",
    "# View the parameters for the probabilistic forecast.\n",
    "print(post_request_body)"
   ]
  },
  {
   "cell_type": "code",
   "execution_count": null,
   "id": "25",
   "metadata": {},
   "outputs": [],
   "source": [
    "# get the POST request response.\n",
    "post_response = pfx_handler.post_request(post_request_body)\n",
    "print(post_response.json())"
   ]
  },
  {
   "cell_type": "code",
   "execution_count": null,
   "id": "26",
   "metadata": {},
   "outputs": [],
   "source": [
    "# Get the GET request response (it takes about 15 seconds for forecast creation)\n",
    "forecast_response = pfx_handler.get_request(post_response)"
   ]
  },
  {
   "cell_type": "code",
   "execution_count": null,
   "id": "27",
   "metadata": {},
   "outputs": [],
   "source": [
    "# Take a look at the response JSON\n",
    "forecast_response.json()"
   ]
  },
  {
   "cell_type": "code",
   "execution_count": null,
   "id": "28",
   "metadata": {},
   "outputs": [],
   "source": [
    "forecast_df = pfx_handler.parse_response(forecast_response.json())\n",
    "forecast_df"
   ]
  }
 ],
 "metadata": {
  "kernelspec": {
   "display_name": "Python 3 (ipykernel)",
   "language": "python",
   "name": "python3"
  },
  "language_info": {
   "codemirror_mode": {
    "name": "ipython",
    "version": 3
   },
   "file_extension": ".py",
   "mimetype": "text/x-python",
   "name": "python",
   "nbconvert_exporter": "python",
   "pygments_lexer": "ipython3",
   "version": "3.11.0rc1"
  }
 },
 "nbformat": 4,
 "nbformat_minor": 5
}
